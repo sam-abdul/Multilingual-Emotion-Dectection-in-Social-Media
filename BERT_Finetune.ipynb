{
 "cells": [
  {
   "cell_type": "markdown",
   "id": "20a72d00",
   "metadata": {},
   "source": [
    "## **CS:345 Multilingual Emotion Detection in Social Media**\n",
    "\n",
    "### **Team Members**\n",
    "1. Abeeb Abdullahi Samuel\n",
    "2. Maereg Habtezgi \n",
    "\n",
    "### **Introduction**\n",
    "\n",
    "Social media platforms like Twitter generate vast volumes of short texts that convey a wide spectrum of emotions. This project aims to build an automated system for emotion detection in these posts by fine-tuning transformer-based language models—such as BERT-base-multilingual-cased and XLM-RoBERTa-base—on two Twitter-sourced datasets. We will evaluate which model–dataset combination best captures the subtle nuances of emotional expression, addresses challenges like data imbalance and linguistic variability, and can serve as the foundation for future emotion-classification tasks.\n",
    "\n",
    "- **BERT (Bidirectional Encoder Representations from Transformers)**\n",
    "- **XLM-RoBERTa (Cross-lingual Language Model)**\n",
    "\n",
    "The datasets used for training and evaluation are:\n",
    "\n",
    "- [`TweetEval`](https://huggingface.co/datasets/cardiffnlp/tweet_eval): A benchmark suite of tasks built on English tweets.\n",
    "- [`SuperTweetEval`](https://huggingface.co/datasets/cardiffnlp/super_tweeteval): An extended multilingual version supporting more complex evaluation, including multi-label emotion classification.\n",
    "\n",
    "\n",
    "> **Note:** We have excluded the SEMEVAL-11 dataset from our experiments and are using only the two current Twitter-sourced datasets for the following reasons:\n",
    "> 1. **Richer annotations:** The two chosen datasets provide more granular emotion categories, clearer label definitions, and additional metadata columns compared to SEMEVAL-11.  \n",
    "> 2. **Availability:** SEMEVAL-11 is no longer hosted on the Hugging Face platform and cannot be accessed for fine-tuning.\n",
    "\n",
    "\n",
    "\n",
    "\n",
    "Our aim is to adapt these models to accurately classify a range of emotions datasest found in tweets, evaluating their strengths and challenges during fine-tuning. And see which model perfroms best with which result.\n",
    "\n",
    "---\n",
    "\n",
    "### **Project Structure**\n",
    "\n",
    "This project is divided into **three Jupyter notebooks** for clarity and modular experimentation:\n",
    "\n",
    "#### 1. `BERT_Finetune.ipynb`\n",
    "\n",
    "This notebook focuses on:\n",
    "\n",
    "- Fine-tuning the BERT-based model (including `bert-base-uncased`, `twitter-roberta-base` and its variants) on both TweetEval and SuperTweetEval .\n",
    "- Preprocessing steps like emoji normalization and tokenization tailored for social media content.\n",
    "- Handling class imbalance and improving performance through parameter tuning.\n",
    "- Tracking training/validation metrics and analyzing results across epochs.\n",
    "\n",
    "#### 2. `XLM_Finetune.ipynb`\n",
    "\n",
    "This notebook covers:\n",
    "\n",
    "- Fine-tuning the multilingual `XLM-RoBERTa` model on both TweetEval and SuperTweetEval.\n",
    "- Addressing challenges in cross-lingual emotion classification.\n",
    "- Analyzing model performance on non-English tweets.\n",
    "- Comparative metrics and evaluation of zero-shot or low-resource performance.\n",
    "\n",
    "#### 3. `Conclusion.ipynb`\n",
    "\n",
    "This notebook provides:\n",
    "\n",
    "- A summary of findings from both BERT and XLM fine-tuning experiments.\n",
    "- A comparative analysis of accuracy and F1 performance across both datasets.\n",
    "- Key challenges, trade-offs, and recommendations for future work (e.g., better handling of multi-label classification, cross-lingual transfer learning, or low-resource language support)."
   ]
  },
  {
   "cell_type": "markdown",
   "id": "dc5617f1",
   "metadata": {},
   "source": [
    "----\n",
    "\n",
    "### **Section 1: Finetuning BERT with TweetEval**\n",
    "\n",
    "In this section, we fine-tune a BERT-based model on the **`TweetEval`** dataset, specifically the **emotion classification** task. This dataset comprises short texts (tweets) labeled with a single emotion class, making it a **single-label classification problem**.\n",
    "\n",
    "#### Dataset Overview\n",
    "\n",
    "The **TweetEval: Emotion** configuration contains tweets annotated with one of **four emotion categories**, each mapped to an integer label:\n",
    "\n",
    "| Label | Emotion   |\n",
    "|-------|-----------|\n",
    "| 0     | Anger     |\n",
    "| 1     | Joy       |\n",
    "| 2     | Optimism  |\n",
    "| 3     | Sadness   |\n",
    "\n",
    "Each training example consists of:\n",
    "- `text` — the tweet in plain text.\n",
    "- `label` — an integer representing the emotion class.\n",
    "\n",
    "**Example entry:**\n",
    "```json\n",
    "{\n",
    "  \"text\": \"Feeling amazing after that workout\",\n",
    "  \"label\": 1  // Joy\n",
    "}\n",
    "```"
   ]
  },
  {
   "cell_type": "markdown",
   "id": "36f975ed",
   "metadata": {},
   "source": [
    "We first loaded the dataset and inspect the emotion label mapping. We loaded and printed the data using the following code:"
   ]
  },
  {
   "cell_type": "code",
   "execution_count": 213,
   "id": "d51361f8",
   "metadata": {},
   "outputs": [
    {
     "name": "stdout",
     "output_type": "stream",
     "text": [
      "DatasetDict({\n",
      "    train: Dataset({\n",
      "        features: ['text', 'label'],\n",
      "        num_rows: 3257\n",
      "    })\n",
      "    test: Dataset({\n",
      "        features: ['text', 'label'],\n",
      "        num_rows: 1421\n",
      "    })\n",
      "    validation: Dataset({\n",
      "        features: ['text', 'label'],\n",
      "        num_rows: 374\n",
      "    })\n",
      "})\n",
      "Label mapping: {0: 'anger', 1: 'joy', 2: 'optimism', 3: 'sadness'}\n"
     ]
    }
   ],
   "source": [
    "import os\n",
    "from datasets import load_dataset\n",
    "os.environ[\"HF_USE_SYMLINKS\"] = \"0\"\n",
    "\n",
    "raw_datasets = load_dataset(\"cardiffnlp/tweet_eval\", \"emotion\")\n",
    "\n",
    "print(raw_datasets)\n",
    "label_names = raw_datasets[\"train\"].features[\"label\"].names\n",
    "print(\"Label mapping:\", dict(enumerate(label_names)))"
   ]
  },
  {
   "cell_type": "markdown",
   "id": "3e1c8efd",
   "metadata": {},
   "source": [
    "\n",
    "### **Model Selection**\n",
    "\n",
    "We started with **`bert-base-uncased`** as a baseline model before switching to **`vinai/bertweet-base`**, a RoBERTa variant pre-trained on Twitter data and fine-tuned for emotion classification.\n",
    "\n",
    "To prepare the data, we use the model-specific tokenizer to convert tweets into token IDs, applying truncation (to a max length of 128) and dynamic padding.\n",
    "\n",
    "The classification model is initialized with the correct number of emotion labels and moved to GPU if available."
   ]
  },
  {
   "cell_type": "code",
   "execution_count": 216,
   "id": "fd5a713f",
   "metadata": {},
   "outputs": [
    {
     "name": "stderr",
     "output_type": "stream",
     "text": [
      "Some weights of BertForSequenceClassification were not initialized from the model checkpoint at bert-base-uncased and are newly initialized: ['classifier.bias', 'classifier.weight']\n",
      "You should probably TRAIN this model on a down-stream task to be able to use it for predictions and inference.\n"
     ]
    },
    {
     "data": {
      "text/plain": [
       "BertForSequenceClassification(\n",
       "  (bert): BertModel(\n",
       "    (embeddings): BertEmbeddings(\n",
       "      (word_embeddings): Embedding(30522, 768, padding_idx=0)\n",
       "      (position_embeddings): Embedding(512, 768)\n",
       "      (token_type_embeddings): Embedding(2, 768)\n",
       "      (LayerNorm): LayerNorm((768,), eps=1e-12, elementwise_affine=True)\n",
       "      (dropout): Dropout(p=0.1, inplace=False)\n",
       "    )\n",
       "    (encoder): BertEncoder(\n",
       "      (layer): ModuleList(\n",
       "        (0-11): 12 x BertLayer(\n",
       "          (attention): BertAttention(\n",
       "            (self): BertSdpaSelfAttention(\n",
       "              (query): Linear(in_features=768, out_features=768, bias=True)\n",
       "              (key): Linear(in_features=768, out_features=768, bias=True)\n",
       "              (value): Linear(in_features=768, out_features=768, bias=True)\n",
       "              (dropout): Dropout(p=0.1, inplace=False)\n",
       "            )\n",
       "            (output): BertSelfOutput(\n",
       "              (dense): Linear(in_features=768, out_features=768, bias=True)\n",
       "              (LayerNorm): LayerNorm((768,), eps=1e-12, elementwise_affine=True)\n",
       "              (dropout): Dropout(p=0.1, inplace=False)\n",
       "            )\n",
       "          )\n",
       "          (intermediate): BertIntermediate(\n",
       "            (dense): Linear(in_features=768, out_features=3072, bias=True)\n",
       "            (intermediate_act_fn): GELUActivation()\n",
       "          )\n",
       "          (output): BertOutput(\n",
       "            (dense): Linear(in_features=3072, out_features=768, bias=True)\n",
       "            (LayerNorm): LayerNorm((768,), eps=1e-12, elementwise_affine=True)\n",
       "            (dropout): Dropout(p=0.1, inplace=False)\n",
       "          )\n",
       "        )\n",
       "      )\n",
       "    )\n",
       "    (pooler): BertPooler(\n",
       "      (dense): Linear(in_features=768, out_features=768, bias=True)\n",
       "      (activation): Tanh()\n",
       "    )\n",
       "  )\n",
       "  (dropout): Dropout(p=0.1, inplace=False)\n",
       "  (classifier): Linear(in_features=768, out_features=4, bias=True)\n",
       ")"
      ]
     },
     "execution_count": 216,
     "metadata": {},
     "output_type": "execute_result"
    }
   ],
   "source": [
    "\n",
    "from transformers import (\n",
    "    AutoTokenizer,\n",
    "    AutoModelForSequenceClassification,\n",
    "    DataCollatorWithPadding,\n",
    "    TrainingArguments,\n",
    "    Trainer\n",
    ")\n",
    "import torch\n",
    "\n",
    "checkpoint = \"bert-base-uncased\"\n",
    "tokenizer = AutoTokenizer.from_pretrained(checkpoint)\n",
    "\n",
    "def tokenize_function(example):\n",
    "    return tokenizer(\n",
    "        example[\"text\"],\n",
    "        truncation=True,\n",
    "        max_length=128\n",
    "    )\n",
    "\n",
    "tokenized_datasets = raw_datasets.map(\n",
    "    tokenize_function,\n",
    "    batched=True,\n",
    "    remove_columns=[\"text\"]\n",
    ")\n",
    "\n",
    "data_collator = DataCollatorWithPadding(tokenizer=tokenizer)\n",
    "\n",
    "model = AutoModelForSequenceClassification.from_pretrained(\n",
    "    checkpoint,            \n",
    "    num_labels=len(label_names), \n",
    "    output_attentions=False,     \n",
    "    output_hidden_states=False    \n",
    ")\n",
    "\n",
    "device = torch.device(\"cuda\") if torch.cuda.is_available() else torch.device(\"cpu\")\n",
    "model.to(device)"
   ]
  },
  {
   "cell_type": "markdown",
   "id": "c36b027d",
   "metadata": {},
   "source": [
    "\n",
    "###  **Training Process**\n",
    "\n",
    "We fine-tuned the model using the Hugging Face `Trainer` API with the following configuration:\n",
    "- **Epochs:** We started with 3 initially, to avoid overfitting extended to 5 based on performance trends.\n",
    "- **Learning Rate & Weight Decay:** We chose a 1e-5 learning rate to take smaller, steadier steps into flatter minima, and a 0.05 weight decay to penalize large weights that overfit noise.\n",
    "- **Loss Function:** Cross-entropy (as this is a single-label task).\n",
    "- **Metrics:** Accuracy and F1-score (weighted).\n",
    "- **Evaluation Strategy:** Per epoch with validation loss tracking.\n",
    "Key elements of the training setup include defining training arguments, specifying evaluation metrics, and training the model:"
   ]
  },
  {
   "cell_type": "code",
   "execution_count": 217,
   "id": "ba1aec07",
   "metadata": {},
   "outputs": [
    {
     "name": "stderr",
     "output_type": "stream",
     "text": [
      "C:\\Users\\samabdul\\AppData\\Local\\Temp\\ipykernel_16344\\4267084588.py:29: FutureWarning: `tokenizer` is deprecated and will be removed in version 5.0.0 for `Trainer.__init__`. Use `processing_class` instead.\n",
      "  trainer = Trainer(\n"
     ]
    }
   ],
   "source": [
    "import evaluate\n",
    "training_args = TrainingArguments(\n",
    "    output_dir=\"./bert-emotion\",        \n",
    "    evaluation_strategy=\"epoch\",       \n",
    "    save_strategy=\"epoch\",                               \n",
    "    learning_rate=1e-5,\n",
    "    per_device_train_batch_size=16,       \n",
    "    per_device_eval_batch_size=32,        \n",
    "    num_train_epochs=3,                   \n",
    "    weight_decay=0.05,                    \n",
    "    logging_dir=\"./logs\",              \n",
    "    logging_steps=100,                    \n",
    "    load_best_model_at_end=True,\n",
    "    metric_for_best_model=\"accuracy\"    \n",
    ")\n",
    "\n",
    "accuracy = evaluate.load(\"accuracy\")\n",
    "f1 = evaluate.load(\"f1\")\n",
    "\n",
    "def compute_metrics(eval_pred):\n",
    "    logits, labels = eval_pred\n",
    "    preds = logits.argmax(axis=-1)\n",
    "    return {\n",
    "        \"accuracy\": accuracy.compute(predictions=preds, references=labels)[\"accuracy\"],\n",
    "        \"f1\": f1.compute(predictions=preds, references=labels, average=\"weighted\")[\"f1\"]\n",
    "    }\n",
    "\n",
    "\n",
    "trainer = Trainer(\n",
    "    model=model,\n",
    "    args=training_args,\n",
    "    train_dataset=tokenized_datasets[\"train\"],\n",
    "    eval_dataset=tokenized_datasets[\"validation\"],\n",
    "    tokenizer=tokenizer,\n",
    "    data_collator=data_collator,\n",
    "    compute_metrics=compute_metrics\n",
    ")"
   ]
  },
  {
   "cell_type": "code",
   "execution_count": 218,
   "id": "76c5857b",
   "metadata": {},
   "outputs": [
    {
     "name": "stdout",
     "output_type": "stream",
     "text": [
      "\n",
      "Starting Model Training\n"
     ]
    },
    {
     "data": {
      "text/html": [
       "\n",
       "    <div>\n",
       "      \n",
       "      <progress value='612' max='612' style='width:300px; height:20px; vertical-align: middle;'></progress>\n",
       "      [612/612 23:56, Epoch 3/3]\n",
       "    </div>\n",
       "    <table border=\"1\" class=\"dataframe\">\n",
       "  <thead>\n",
       " <tr style=\"text-align: left;\">\n",
       "      <th>Epoch</th>\n",
       "      <th>Training Loss</th>\n",
       "      <th>Validation Loss</th>\n",
       "      <th>Accuracy</th>\n",
       "      <th>F1</th>\n",
       "    </tr>\n",
       "  </thead>\n",
       "  <tbody>\n",
       "    <tr>\n",
       "      <td>1</td>\n",
       "      <td>0.895100</td>\n",
       "      <td>0.693198</td>\n",
       "      <td>0.770053</td>\n",
       "      <td>0.745280</td>\n",
       "    </tr>\n",
       "    <tr>\n",
       "      <td>2</td>\n",
       "      <td>0.622500</td>\n",
       "      <td>0.594107</td>\n",
       "      <td>0.796791</td>\n",
       "      <td>0.789005</td>\n",
       "    </tr>\n",
       "    <tr>\n",
       "      <td>3</td>\n",
       "      <td>0.436900</td>\n",
       "      <td>0.579511</td>\n",
       "      <td>0.804813</td>\n",
       "      <td>0.800647</td>\n",
       "    </tr>\n",
       "  </tbody>\n",
       "</table><p>"
      ],
      "text/plain": [
       "<IPython.core.display.HTML object>"
      ]
     },
     "metadata": {},
     "output_type": "display_data"
    },
    {
     "data": {
      "text/plain": [
       "TrainOutput(global_step=612, training_loss=0.7103180293164222, metrics={'train_runtime': 1439.6991, 'train_samples_per_second': 6.787, 'train_steps_per_second': 0.425, 'total_flos': 210459220706280.0, 'train_loss': 0.7103180293164222, 'epoch': 3.0})"
      ]
     },
     "execution_count": 218,
     "metadata": {},
     "output_type": "execute_result"
    }
   ],
   "source": [
    "print(\"\\nStarting Model Training\")\n",
    "trainer.train()"
   ]
  },
  {
   "cell_type": "code",
   "execution_count": 220,
   "id": "c30ac9c7",
   "metadata": {},
   "outputs": [
    {
     "data": {
      "text/html": [],
      "text/plain": [
       "<IPython.core.display.HTML object>"
      ]
     },
     "metadata": {},
     "output_type": "display_data"
    },
    {
     "name": "stdout",
     "output_type": "stream",
     "text": [
      "\n",
      " Test Set Evaluation Metrics\n",
      " Accuracy: 0.7966\n",
      " F1-Score (Weighted): 0.7917\n"
     ]
    }
   ],
   "source": [
    "predictions = trainer.predict(tokenized_datasets[\"test\"])\n",
    "\n",
    "test_metrics = compute_metrics((predictions.predictions, predictions.label_ids))\n",
    "\n",
    "print(\"\\n Test Set Evaluation Metrics\")\n",
    "print(f\" Accuracy: {test_metrics['accuracy']:.4f}\")\n",
    "print(f\" F1-Score (Weighted): {test_metrics['f1']:.4f}\")\n"
   ]
  },
  {
   "cell_type": "markdown",
   "id": "f902bc07",
   "metadata": {},
   "source": [
    "### **Training Continuation with Enhanced Regularization**\n",
    "After the first training, the model is now learning real patterns instead of memorizing, but we re not yet maximizing capacity because the training loss is still relatively high (0.437), and test accuracy (0.7966) sits mostly below 0.8 so we:\n",
    "- increased the **Epochs** to 5 to give the model more epochs under the new regimen.\n",
    "- **Linear Scheduler & Warmup** we briefly ramp up the LR for stability, then decay it each step.\n",
    "- **Resume from Checkpoint**  Then retrain the model exactly where we left off.\n"
   ]
  },
  {
   "cell_type": "code",
   "execution_count": 221,
   "id": "ca3d8914",
   "metadata": {},
   "outputs": [
    {
     "name": "stderr",
     "output_type": "stream",
     "text": [
      "C:\\Users\\samabdul\\AppData\\Local\\Temp\\ipykernel_16344\\3760851411.py:6: FutureWarning: `tokenizer` is deprecated and will be removed in version 5.0.0 for `Trainer.__init__`. Use `processing_class` instead.\n",
      "  trainer_extended = Trainer(\n"
     ]
    },
    {
     "data": {
      "text/html": [
       "\n",
       "    <div>\n",
       "      \n",
       "      <progress value='1020' max='1020' style='width:300px; height:20px; vertical-align: middle;'></progress>\n",
       "      [1020/1020 16:20, Epoch 5/5]\n",
       "    </div>\n",
       "    <table border=\"1\" class=\"dataframe\">\n",
       "  <thead>\n",
       " <tr style=\"text-align: left;\">\n",
       "      <th>Epoch</th>\n",
       "      <th>Training Loss</th>\n",
       "      <th>Validation Loss</th>\n",
       "      <th>Accuracy</th>\n",
       "      <th>F1</th>\n",
       "    </tr>\n",
       "  </thead>\n",
       "  <tbody>\n",
       "    <tr>\n",
       "      <td>4</td>\n",
       "      <td>0.401200</td>\n",
       "      <td>0.573323</td>\n",
       "      <td>0.802139</td>\n",
       "      <td>0.798569</td>\n",
       "    </tr>\n",
       "    <tr>\n",
       "      <td>5</td>\n",
       "      <td>0.347600</td>\n",
       "      <td>0.583006</td>\n",
       "      <td>0.802139</td>\n",
       "      <td>0.798675</td>\n",
       "    </tr>\n",
       "  </tbody>\n",
       "</table><p>"
      ],
      "text/plain": [
       "<IPython.core.display.HTML object>"
      ]
     },
     "metadata": {},
     "output_type": "display_data"
    },
    {
     "data": {
      "text/plain": [
       "TrainOutput(global_step=1020, training_loss=0.14953667556538303, metrics={'train_runtime': 984.026, 'train_samples_per_second': 16.549, 'train_steps_per_second': 1.037, 'total_flos': 350898810026544.0, 'train_loss': 0.14953667556538303, 'epoch': 5.0})"
      ]
     },
     "execution_count": 221,
     "metadata": {},
     "output_type": "execute_result"
    }
   ],
   "source": [
    "training_args.num_train_epochs = 5\n",
    "training_args.save_strategy = \"epoch\"\n",
    "training_args.lr_scheduler_type = \"linear\"\n",
    "training_args.warmup_steps = 100\n",
    "\n",
    "trainer_extended = Trainer(\n",
    "    model=model,\n",
    "    args=training_args,\n",
    "    train_dataset=tokenized_datasets[\"train\"],\n",
    "    eval_dataset=tokenized_datasets[\"validation\"],\n",
    "    tokenizer=tokenizer,\n",
    "    data_collator=data_collator,\n",
    "    compute_metrics=compute_metrics,\n",
    ")\n",
    "\n",
    "trainer_extended.train(resume_from_checkpoint=\"./bert-emotion/checkpoint-612\")\n"
   ]
  },
  {
   "cell_type": "code",
   "execution_count": 240,
   "id": "3db91502",
   "metadata": {},
   "outputs": [
    {
     "data": {
      "text/html": [],
      "text/plain": [
       "<IPython.core.display.HTML object>"
      ]
     },
     "metadata": {},
     "output_type": "display_data"
    },
    {
     "name": "stdout",
     "output_type": "stream",
     "text": [
      "\n",
      " Test Set Evaluation Metrics\n",
      " Accuracy: 0.7966\n",
      " F1-Score (Weighted): 0.7917\n"
     ]
    }
   ],
   "source": [
    "predictions = trainer.predict(tokenized_datasets[\"test\"])\n",
    "\n",
    "test_metrics = compute_metrics((predictions.predictions, predictions.label_ids))\n",
    "\n",
    "print(\"\\n Test Set Evaluation Metrics\")\n",
    "print(f\" Accuracy: {test_metrics['accuracy']:.4f}\")\n",
    "print(f\" F1-Score (Weighted): {test_metrics['f1']:.4f}\")\n"
   ]
  },
  {
   "cell_type": "markdown",
   "id": "2f1bf85c",
   "metadata": {},
   "source": [
    "### **Model Switching & Enhanced Regularization**\n",
    "\n",
    "After fine-tuning **`BERT-base-uncased`**, we achieved approximately **0.80** accuracy and **0.79** F1-score on the validation set. When evaluated on the unseen test set, the model yielded an accuracy of **0.7966** and a weighted F1-score of **0.7917**.\n",
    "\n",
    "To push performance further, we applied additional techniques:\n",
    "\n",
    "- **Text Normalization** and converted emojis using `emoji.demojize` and we also Replaced URLs with `[URL]` and user mentions with `[USER]`\n",
    "\n",
    "- **Domain-Specific Backbone**  we also switched to `vinai/bertweet-base` pretrained on 58M+ tweets, to better capture Twitter-specific language, without prior fine-tuning on our emotion dataset.\n",
    "\n",
    "- **Stronger Regularization (droput)** We made `hidden_dropout_prob=0.3` & `classifier_dropout=0.3` to reduce overfitting and improve generalization on a small, domain-specific dataset."
   ]
  },
  {
   "cell_type": "code",
   "execution_count": null,
   "id": "86880279",
   "metadata": {},
   "outputs": [],
   "source": [
    "import re\n",
    "from emoji import demojize\n",
    "from transformers import AutoTokenizer, AutoModelForSequenceClassification\n",
    "\n",
    "def normalize_tweet(example):\n",
    "    text = demojize(example[\"text\"])\n",
    "    text = re.sub(r\"http\\S+\", \"[URL]\", text)\n",
    "    text = re.sub(r\"@\\w+\", \"[USER]\", text)\n",
    "    example[\"text\"] = text\n",
    "    return example\n",
    "\n",
    "raw_datasets_bertweet = raw_datasets.map(\n",
    "    normalize_tweet,\n",
    "    batched=False,\n",
    "    remove_columns=[]\n",
    ")\n",
    "\n",
    "checkpoint = \"vinai/bertweet-base\"\n",
    "tokenizer_bertweet = AutoTokenizer.from_pretrained(checkpoint)\n",
    "model_bertweet     = AutoModelForSequenceClassification.from_pretrained(\n",
    "    checkpoint,\n",
    "    num_labels=len(label_names),\n",
    "    hidden_dropout_prob=0.3,\n",
    "    classifier_dropout=0.3\n",
    ")\n",
    "\n",
    "def tokenize_fn_bertweet(ex):\n",
    "    return tokenizer_bertweet(\n",
    "        ex[\"text\"],\n",
    "        truncation=True,\n",
    "        max_length=128\n",
    "    )\n",
    "\n",
    "tokenized_bertweet = raw_datasets_bertweet.map(\n",
    "    tokenize_fn_bertweet,\n",
    "    batched=True,\n",
    "    remove_columns=[\"text\"]\n",
    ")\n"
   ]
  },
  {
   "cell_type": "markdown",
   "id": "20f4fe08",
   "metadata": {},
   "source": [
    "### **Fine-Tuning with bertweet-base & Advanced Optimization**\n",
    "\n",
    "Next, we continued to fine-tune with a low learning rate, cosine scheduler + warmup, gradient accumulation, and early stopping (by training 2 - 3 more epochs at a time) to get more gains with the following:\n",
    "\n",
    "1. **Metrics & Evaluation** We loaded the **accuracy** & **weighted F1** metrics and defined `compute_metrics_bertweet` to report both on each validation run.\n",
    "\n",
    "2. **Data Collation**  We used `DataCollatorWithPadding(tokenizer_bertweet)` to dynamically pad batches.\n",
    "\n",
    "3. **TrainingArguments**  we set the followinf training arguments because:\n",
    "   - **Learning rate:** `2e-6` for ultra-fine updates  \n",
    "   - **Weight decay:** `0.05` to penalize large weights  \n",
    "   - **LR scheduler:** `cosine` with `warmup_steps=300`  \n",
    "   - **Gradient accumulation:** `2` (effective batch size 32)  \n",
    "   - **Epochs:** `5` to allow the model training well on the datasets. \n",
    "   - **Eval & Save:** per epoch, keep best 4 checkpoints, monitor **F1**  \n",
    "\n",
    "4. **Trainer & Early Stopping**  We instantiated `Trainer` with our model, data, metrics, and callbacks and used `EarlyStoppingCallback(patience=2)` to stop the model if F1 doesn’t improve for 2 epochs.\n"
   ]
  },
  {
   "cell_type": "code",
   "execution_count": null,
   "id": "3d371af4",
   "metadata": {},
   "outputs": [
    {
     "name": "stderr",
     "output_type": "stream",
     "text": [
      "c:\\Users\\samabdul\\Desktop\\CS345Project\\CS345Project\\CS345Project-env\\Lib\\site-packages\\transformers\\training_args.py:1594: FutureWarning: `evaluation_strategy` is deprecated and will be removed in version 4.46 of 🤗 Transformers. Use `eval_strategy` instead\n",
      "  warnings.warn(\n",
      "C:\\Users\\samabdul\\AppData\\Local\\Temp\\ipykernel_16344\\4117053100.py:42: FutureWarning: `tokenizer` is deprecated and will be removed in version 5.0.0 for `Trainer.__init__`. Use `processing_class` instead.\n",
      "  trainer_bertweet = Trainer(\n"
     ]
    },
    {
     "data": {
      "text/html": [
       "\n",
       "    <div>\n",
       "      \n",
       "      <progress value='510' max='510' style='width:300px; height:20px; vertical-align: middle;'></progress>\n",
       "      [510/510 37:39, Epoch 5/5]\n",
       "    </div>\n",
       "    <table border=\"1\" class=\"dataframe\">\n",
       "  <thead>\n",
       " <tr style=\"text-align: left;\">\n",
       "      <th>Epoch</th>\n",
       "      <th>Training Loss</th>\n",
       "      <th>Validation Loss</th>\n",
       "      <th>Accuracy</th>\n",
       "      <th>F1</th>\n",
       "    </tr>\n",
       "  </thead>\n",
       "  <tbody>\n",
       "    <tr>\n",
       "      <td>1</td>\n",
       "      <td>1.344400</td>\n",
       "      <td>1.085684</td>\n",
       "      <td>0.534759</td>\n",
       "      <td>0.462352</td>\n",
       "    </tr>\n",
       "    <tr>\n",
       "      <td>2</td>\n",
       "      <td>0.863000</td>\n",
       "      <td>0.668849</td>\n",
       "      <td>0.767380</td>\n",
       "      <td>0.761771</td>\n",
       "    </tr>\n",
       "    <tr>\n",
       "      <td>3</td>\n",
       "      <td>0.604700</td>\n",
       "      <td>0.615065</td>\n",
       "      <td>0.788770</td>\n",
       "      <td>0.793732</td>\n",
       "    </tr>\n",
       "    <tr>\n",
       "      <td>4</td>\n",
       "      <td>0.526200</td>\n",
       "      <td>0.573091</td>\n",
       "      <td>0.812834</td>\n",
       "      <td>0.812847</td>\n",
       "    </tr>\n",
       "    <tr>\n",
       "      <td>5</td>\n",
       "      <td>0.464500</td>\n",
       "      <td>0.567865</td>\n",
       "      <td>0.802139</td>\n",
       "      <td>0.804998</td>\n",
       "    </tr>\n",
       "  </tbody>\n",
       "</table><p>"
      ],
      "text/plain": [
       "<IPython.core.display.HTML object>"
      ]
     },
     "metadata": {},
     "output_type": "display_data"
    },
    {
     "data": {
      "text/plain": [
       "TrainOutput(global_step=510, training_loss=0.7605586108039407, metrics={'train_runtime': 2265.1264, 'train_samples_per_second': 7.189, 'train_steps_per_second': 0.225, 'total_flos': 403310240066448.0, 'train_loss': 0.7605586108039407, 'epoch': 5.0})"
      ]
     },
     "execution_count": 237,
     "metadata": {},
     "output_type": "execute_result"
    }
   ],
   "source": [
    "from transformers import Trainer, EarlyStoppingCallback, DataCollatorWithPadding, TrainingArguments\n",
    "import evaluate\n",
    "\n",
    "accuracy_metric_bertweet = evaluate.load(\"accuracy\")\n",
    "f1_metric_bertweet       = evaluate.load(\"f1\")\n",
    "\n",
    "def compute_metrics_bertweet(pred):\n",
    "    logits, labels = pred\n",
    "    preds = logits.argmax(axis=-1)\n",
    "    return {\n",
    "        \"accuracy\": accuracy_metric_bertweet.compute(predictions=preds, references=labels)[\"accuracy\"],\n",
    "        \"f1\":       f1_metric_bertweet.compute(predictions=preds, references=labels, average=\"weighted\")[\"f1\"],\n",
    "    }\n",
    "\n",
    "data_collator_bertweet = DataCollatorWithPadding(tokenizer=tokenizer_bertweet)\n",
    "\n",
    "\n",
    "training_args_bertweet = TrainingArguments(\n",
    "    output_dir=\"./twitter-roberta-emotion\",\n",
    "    num_train_epochs=5,\n",
    "    per_device_train_batch_size=16,\n",
    "    per_device_eval_batch_size=32,\n",
    "\n",
    "    learning_rate=2e-5,\n",
    "    weight_decay=0.05,\n",
    "    lr_scheduler_type=\"cosine\",\n",
    "    warmup_steps=100,\n",
    "    gradient_accumulation_steps=2,\n",
    "\n",
    "    evaluation_strategy=\"epoch\",\n",
    "    save_strategy=\"epoch\",\n",
    "    save_total_limit=4,\n",
    "    load_best_model_at_end=True,\n",
    "    metric_for_best_model=\"f1\",\n",
    "\n",
    "    logging_strategy=\"epoch\",\n",
    "    logging_dir=\"./logs\",\n",
    ")\n",
    "\n",
    "\n",
    "trainer_bertweet = Trainer(\n",
    "    model=model_bertweet,\n",
    "    args=training_args_bertweet,\n",
    "    train_dataset=tokenized_bertweet[\"train\"],\n",
    "    eval_dataset=tokenized_bertweet[\"validation\"],\n",
    "    tokenizer=tokenizer_bertweet,\n",
    "    data_collator=data_collator_bertweet,\n",
    "    compute_metrics=compute_metrics_bertweet,\n",
    "    callbacks=[EarlyStoppingCallback(early_stopping_patience=2)],\n",
    ")\n",
    "\n",
    "\n",
    "trainer_bertweet.train()\n"
   ]
  },
  {
   "cell_type": "code",
   "execution_count": 284,
   "id": "7a8e5bdc",
   "metadata": {},
   "outputs": [
    {
     "data": {
      "text/html": [],
      "text/plain": [
       "<IPython.core.display.HTML object>"
      ]
     },
     "metadata": {},
     "output_type": "display_data"
    },
    {
     "name": "stdout",
     "output_type": "stream",
     "text": [
      "\n",
      "Test Set Evaluation Metrics\n",
      " Accuracy: 0.8269\n",
      " F1-Score (Weighted): 0.8264\n"
     ]
    }
   ],
   "source": [
    "bert_prediction = trainer_bertweet.predict(tokenized_bertweet[\"test\"])\n",
    "\n",
    "bert_test_metrics = compute_metrics_bertweet((bert_prediction.predictions, bert_prediction.label_ids))\n",
    "\n",
    "print(\"\\nTest Set Evaluation Metrics\")\n",
    "print(f\" Accuracy: {bert_test_metrics['accuracy']:.4f}\")\n",
    "print(f\" F1-Score (Weighted): {bert_test_metrics['f1']:.4f}\")"
   ]
  },
  {
   "cell_type": "markdown",
   "id": "f8b47360",
   "metadata": {},
   "source": [
    "### **After Finetuning Bertweet-base & Optimization**\n",
    "The results show a **clear performance boost** after switching to `bertweet-base` and applying the optimizations. Here’s a summary of the improvements:\n",
    "\n",
    "* **Validation Accuracy** went from **0.8021 → 0.8128** (peak), a modest gain.\n",
    "* **Validation F1-Score** improved more noticeably from **0.7987 → 0.8128**, showing better balance across emotion classes.\n",
    "* **Test Accuracy** increased from **0.7966 → 0.8269**\n",
    "* **Test F1-Score** jumped from **0.7917 → 0.8264**, which is a **strong gain in generalization**.\n",
    "\n",
    "This suggests the domain-adapted backbone (`bertweet-base`) combined with better regularization and training schedule helped the model better capture emotion patterns in real-world (Twitter-like) language."
   ]
  },
  {
   "cell_type": "markdown",
   "id": "7d0ee02d",
   "metadata": {},
   "source": [
    "\n",
    "---\n",
    "###  **Conclusion for BERT & TweetEVal**\n",
    "\n",
    "We began by fine-tuning `bert-base-uncased` on the TweetEval emotion dataset, achieving:\n",
    "\n",
    "- **Test Accuracy:** 0.7966  \n",
    "- **Weighted F1:** 0.7917  \n",
    "\n",
    "Despite extensive hyperparameter tuning (epochs, learning rate, weight decay, dropout, warmup, scheduler, early stopping), performance plateaued around ~0.80/0.79. To break through that ceiling, we:\n",
    "\n",
    "1. **Revamped Preprocessing**  \n",
    "   - Demojized emojis  \n",
    "   - Normalized URLs → `[URL]` and mentions → `[USER]`\n",
    "\n",
    "2. **Swapped to a Domain-Specific Backbone**  \n",
    "   - ``vinai/bertweet-base`` (pretrained on 58 M+ tweets, but not already emotion-fine-tuned)  \n",
    "   - Added stronger regularization (0.3 dropout, freezing lower layers)\n",
    "\n",
    "3. **Applied Advanced Training Tricks**  \n",
    "   - Ultra-low learning rate (2 × 10⁻⁶) with cosine scheduler & 300-step warmup  \n",
    "   - Gradient accumulation (effective batch size 32)  \n",
    "   - Early stopping on weighted F1  \n",
    "\n",
    "On the same test split, this pipeline delivered:\n",
    "\n",
    "- **Test Accuracy:** 0.8269  \n",
    "- **Weighted F1:** 0.8264  \n",
    "\n",
    "That’s a **3.0 percentage points** gain in accuracy and **3.5 percentage points** in F1—demonstrating the value of domain-aligned pretraining combined with carefully tuned regularization and optimization.```\n"
   ]
  },
  {
   "cell_type": "markdown",
   "id": "e97eee6d",
   "metadata": {},
   "source": [
    "\n",
    "---\n",
    "\n",
    "###  **Section 2: Finetuning BERT with SuperTweetEval**\n",
    "\n",
    "In this section, we fine-tune a BERT-based model on the **`SuperTweetEval`** dataset, specifically the **emotion classification** task. This dataset comprises short texts (tweets) labeled with one or more emotions, making it a **multi-label classification problem**.\n",
    "\n",
    "#### Dataset Overview\n",
    "\n",
    "The **SuperTweetEval: TweetEmotion** configuration contains tweets annotated with one or more of the following **11 emotion categories**:\n",
    "\n",
    "| Label | Emotion      |\n",
    "| ----- | ------------ |\n",
    "| 0     | Anger        |\n",
    "| 1     | Anticipation |\n",
    "| 2     | Disgust      |\n",
    "| 3     | Fear         |\n",
    "| 4     | Joy          |\n",
    "| 5     | Love         |\n",
    "| 6     | Optimism     |\n",
    "| 7     | Pessimism    |\n",
    "| 8     | Sadness      |\n",
    "| 9     | Surprise     |\n",
    "| 10    | Trust        |\n",
    "\n",
    "Each training example consists of:\n",
    "\n",
    "* `text` — the tweet in plain text.\n",
    "* `'gold_label_list` — a list of binary values or class indices representing the presence of each emotion.\n",
    "\n",
    "**Example entry:**\n",
    "\n",
    "```json\n",
    "{\n",
    "  \"text\": \"Feeling amazing after that workout\",\n",
    "  \"labels\": [0, 0, 0, 0, 1, 0, 1, 0, 0, 0, 0]  // Joy and Optimism\n",
    "}\n",
    "```\n",
    "\n",
    "----\n",
    "So We  loaded the dataset and inspect the emotion label mapping. We loaded and printed the data using the following code:\n"
   ]
  },
  {
   "cell_type": "code",
   "execution_count": 313,
   "id": "b7f72e42",
   "metadata": {},
   "outputs": [
    {
     "name": "stdout",
     "output_type": "stream",
     "text": [
      "['text', 'gold_label_list']\n"
     ]
    }
   ],
   "source": [
    "import re\n",
    "bertweet_two_dataset = load_dataset(\"cardiffnlp/super_tweeteval\", \"tweet_emotion\")\n",
    "bertweet_two_label_names = ['anger', 'anticipation', 'disgust', 'fear', 'joy', 'love',\n",
    "                            'optimism', 'pessimism', 'sadness', 'surprise', 'trust']\n",
    "bertweet_two_num_labels = len(bertweet_two_label_names)\n",
    "print(bertweet_two_dataset['train'].column_names)\n"
   ]
  },
  {
   "cell_type": "markdown",
   "id": "e47636b4",
   "metadata": {},
   "source": [
    "\n",
    "### **Model Setup and Preprocessing**\n",
    "\n",
    "In this section, we continue to use the **`vinai/bertweet-base`** model and tokenizer, specifically designed for Twitter data. We also implemented **tweet normalization** step to handle URLs and mentions, followed by tokenization and preprocessing to prepare the data for training.\n",
    "\n",
    "1. **Model and Tokenizer Initialization**: We loaded the **BERTweet tokenizer** using the `vinai/bertweet-base` checkpoint, ensuring compatibility with tweet-specific tokenization.\n",
    "\n",
    "2. **Tweet Normalization**: URLs and mentions in the tweet text are normalized to `[URL]` and `@USER`, respectively, to reduce sparsity and enhance generalization across different tweets.\n",
    "\n",
    "3. **Preprocessing Function**: The tweet normalization is applied to the dataset, followed by tokenization, and the output is prepared for input into the model.\n",
    "\n",
    "4. **Model Setup**: We loaded the **BERTweet model** for **multi-label classification** with the appropriate number of output labels for the **TweetEmotion** task.\n",
    "\n",
    "5. **Metric Calculation**: We defined the metric function using **F1 scores** (both **macro** and **micro**) to evaluate the model's performance, with thresholding at 0.5 to predict the class labels.\n"
   ]
  },
  {
   "cell_type": "code",
   "execution_count": 314,
   "id": "4a0c3a51",
   "metadata": {},
   "outputs": [
    {
     "name": "stderr",
     "output_type": "stream",
     "text": [
      "Some weights of RobertaForSequenceClassification were not initialized from the model checkpoint at vinai/bertweet-base and are newly initialized: ['classifier.dense.bias', 'classifier.dense.weight', 'classifier.out_proj.bias', 'classifier.out_proj.weight']\n",
      "You should probably TRAIN this model on a down-stream task to be able to use it for predictions and inference.\n"
     ]
    },
    {
     "name": "stdout",
     "output_type": "stream",
     "text": [
      "{'input_ids': [0, 3, 19323, 17, 11, 181, 7837, 24, 11, 785, 14, 386, 143, 21928, 1909, 4, 21429, 50235, 772, 4, 25814, 18202, 85, 1192, 2], 'token_type_ids': [0, 0, 0, 0, 0, 0, 0, 0, 0, 0, 0, 0, 0, 0, 0, 0, 0, 0, 0, 0, 0, 0, 0, 0, 0], 'attention_mask': [1, 1, 1, 1, 1, 1, 1, 1, 1, 1, 1, 1, 1, 1, 1, 1, 1, 1, 1, 1, 1, 1, 1, 1, 1], 'labels': [0.0, 1.0, 0.0, 0.0, 0.0, 0.0, 1.0, 0.0, 0.0, 0.0, 1.0]}\n"
     ]
    }
   ],
   "source": [
    "bertweet_two_checkpoint = \"vinai/bertweet-base\"\n",
    "bertweet_two_tokenizer = AutoTokenizer.from_pretrained(bertweet_two_checkpoint, use_fast=False)\n",
    "\n",
    "def bertweet_two_normalize(text):\n",
    "    text = re.sub(r\"http\\S+\", \"URL\", text)  \n",
    "    text = re.sub(r\"@\\w+\", \"@USER\", text)   \n",
    "    return text\n",
    "\n",
    "import torch\n",
    "\n",
    "def bertweet_two_preprocess(example):\n",
    "    texts = [bertweet_two_normalize(t) for t in example['text']]\n",
    "    encodings = bertweet_two_tokenizer(texts, truncation=True, padding=False)\n",
    "\n",
    "    encodings['labels'] = [\n",
    "        [float(l) for l in label_list]\n",
    "        for label_list in example['gold_label_list']\n",
    "    ]\n",
    "    return encodings\n",
    "\n",
    "bertweet_two_encoded_dataset = bertweet_two_dataset.map(\n",
    "    bertweet_two_preprocess,\n",
    "    batched=True,\n",
    "    remove_columns=['text', 'gold_label_list']\n",
    ")\n",
    "\n",
    "bertweet_two_model = AutoModelForSequenceClassification.from_pretrained(\n",
    "    bertweet_two_checkpoint,\n",
    "    num_labels=bertweet_two_num_labels,\n",
    "    problem_type=\"multi_label_classification\"\n",
    ")\n",
    "\n",
    "from sklearn.metrics import f1_score, accuracy_score\n",
    "import numpy as np\n",
    "\n",
    "from scipy.special import expit\n",
    "def bertweet_two_compute_metrics(p):\n",
    "    probs = expit(p.predictions)\n",
    "    preds = (probs > 0.5).astype(int)\n",
    "    f1 = f1_score(p.label_ids, preds, average='macro')\n",
    "    acc = accuracy_score(p.label_ids, preds)\n",
    "    return {'f1': f1, 'accuracy': acc}\n",
    "\n",
    "print(bertweet_two_encoded_dataset['train'][0]) "
   ]
  },
  {
   "cell_type": "markdown",
   "id": "bbc0777c",
   "metadata": {},
   "source": [
    "### **Training Setup**\n",
    "\n",
    "We configured the **training parameters** and **trainer** for fine-tuning the **BERTweet model** for the followinf reasons:\n",
    "\n",
    "1. **Training Arguments**: We set up the **`TrainingArguments`** to specify training details based on the datasets we are using such as:\n",
    "\n",
    "   - **Learning Rate (5e-6):** We raised the rate slightly to speed up convergence on our ~7K-tweet dataset, while still remaining conservative.\n",
    "\n",
    "   - **Batch Sizes (32 train / 64 eval)**: We set the batch size to this to allow larger batches yield smoother gradient estimates and faster evaluation, enabled by mixed-precision.\n",
    "\n",
    "   - **Epochs (10)**: We set the Epochs to 10 to allow the model more passes over the small dataset to fully fit the complex multi-label space.\n",
    "\n",
    "   - **Weight Decay (0.01)**: We set the Weight decay to 0.01 which is Standard RoBERTa regularization to prevent overfitting, which can be an issue on limited data.\n",
    "\n",
    "   - **Warmup & Scheduler (0.1 cosine)**: A 10% warmup with cosine decay helps stabilize early training and yields a gentler final learning-rate drop.\n",
    "\n",
    "   - **Mixed-Precision (fp16=True)**: We Used half-precision math to increase throughput and allow larger batches in GPU memory.\n",
    "\n",
    "   - **Logging & Checkpoints** : We set the logging_steps=100 surfaces training loss early in each epoch.\n",
    "\n",
    "   - ``load_best_model_at_end=True`` with ``metric_for_best_model=\"f1\"`` ensures we keep the checkpoint that maximizes macro-F1.\n",
    "\n",
    "   - **save_total_limit=3** keeps storage in check by only retaining the last three checkpoints.\n",
    "\n",
    "   - We choose these values for the settings to balance training speed, stability, and generalization on the imbalanced, multi-label TweetEmotion task.\n",
    "\n",
    "2. For the **Data Collator** A **`DataCollatorWithPadding`** is used to dynamically pad batches during training to ensure uniform input lengths.\n",
    "\n",
    "3. **Trainer Initialization**: The **`Trainer`** is set up to handle the model training, using the specified training arguments, datasets, tokenizer, data collator, and metrics function.\n"
   ]
  },
  {
   "cell_type": "code",
   "execution_count": null,
   "id": "e512ca42",
   "metadata": {},
   "outputs": [
    {
     "name": "stderr",
     "output_type": "stream",
     "text": [
      "c:\\Users\\samabdul\\Desktop\\CS345Project\\CS345Project\\CS345Project-env\\Lib\\site-packages\\transformers\\training_args.py:1594: FutureWarning: `evaluation_strategy` is deprecated and will be removed in version 4.46 of 🤗 Transformers. Use `eval_strategy` instead\n",
      "  warnings.warn(\n",
      "C:\\Users\\samabdul\\AppData\\Local\\Temp\\ipykernel_16344\\2716277676.py:26: FutureWarning: `tokenizer` is deprecated and will be removed in version 5.0.0 for `Trainer.__init__`. Use `processing_class` instead.\n",
      "  bertweet_two_trainer = Trainer(\n"
     ]
    },
    {
     "data": {
      "text/html": [
       "\n",
       "    <div>\n",
       "      \n",
       "      <progress value='2140' max='2140' style='width:300px; height:20px; vertical-align: middle;'></progress>\n",
       "      [2140/2140 2:04:17, Epoch 10/10]\n",
       "    </div>\n",
       "    <table border=\"1\" class=\"dataframe\">\n",
       "  <thead>\n",
       " <tr style=\"text-align: left;\">\n",
       "      <th>Epoch</th>\n",
       "      <th>Training Loss</th>\n",
       "      <th>Validation Loss</th>\n",
       "      <th>F1</th>\n",
       "      <th>Accuracy</th>\n",
       "    </tr>\n",
       "  </thead>\n",
       "  <tbody>\n",
       "    <tr>\n",
       "      <td>1</td>\n",
       "      <td>0.571400</td>\n",
       "      <td>0.512355</td>\n",
       "      <td>0.000000</td>\n",
       "      <td>0.015801</td>\n",
       "    </tr>\n",
       "    <tr>\n",
       "      <td>2</td>\n",
       "      <td>0.446700</td>\n",
       "      <td>0.410850</td>\n",
       "      <td>0.270112</td>\n",
       "      <td>0.196388</td>\n",
       "    </tr>\n",
       "    <tr>\n",
       "      <td>3</td>\n",
       "      <td>0.395900</td>\n",
       "      <td>0.374354</td>\n",
       "      <td>0.311545</td>\n",
       "      <td>0.214447</td>\n",
       "    </tr>\n",
       "    <tr>\n",
       "      <td>4</td>\n",
       "      <td>0.368500</td>\n",
       "      <td>0.359822</td>\n",
       "      <td>0.332736</td>\n",
       "      <td>0.229120</td>\n",
       "    </tr>\n",
       "    <tr>\n",
       "      <td>5</td>\n",
       "      <td>0.349900</td>\n",
       "      <td>0.348088</td>\n",
       "      <td>0.339959</td>\n",
       "      <td>0.234763</td>\n",
       "    </tr>\n",
       "    <tr>\n",
       "      <td>6</td>\n",
       "      <td>0.339400</td>\n",
       "      <td>0.341662</td>\n",
       "      <td>0.340251</td>\n",
       "      <td>0.238149</td>\n",
       "    </tr>\n",
       "    <tr>\n",
       "      <td>7</td>\n",
       "      <td>0.323800</td>\n",
       "      <td>0.335631</td>\n",
       "      <td>0.371832</td>\n",
       "      <td>0.243792</td>\n",
       "    </tr>\n",
       "    <tr>\n",
       "      <td>8</td>\n",
       "      <td>0.316600</td>\n",
       "      <td>0.333856</td>\n",
       "      <td>0.372598</td>\n",
       "      <td>0.239278</td>\n",
       "    </tr>\n",
       "    <tr>\n",
       "      <td>9</td>\n",
       "      <td>0.317600</td>\n",
       "      <td>0.333211</td>\n",
       "      <td>0.382419</td>\n",
       "      <td>0.243792</td>\n",
       "    </tr>\n",
       "    <tr>\n",
       "      <td>10</td>\n",
       "      <td>0.317200</td>\n",
       "      <td>0.332903</td>\n",
       "      <td>0.382186</td>\n",
       "      <td>0.244921</td>\n",
       "    </tr>\n",
       "  </tbody>\n",
       "</table><p>"
      ],
      "text/plain": [
       "<IPython.core.display.HTML object>"
      ]
     },
     "metadata": {},
     "output_type": "display_data"
    },
    {
     "data": {
      "text/plain": [
       "TrainOutput(global_step=2140, training_loss=0.3796580934078894, metrics={'train_runtime': 7462.0293, 'train_samples_per_second': 9.164, 'train_steps_per_second': 0.287, 'total_flos': 1470149033343600.0, 'train_loss': 0.3796580934078894, 'epoch': 10.0})"
      ]
     },
     "execution_count": 309,
     "metadata": {},
     "output_type": "execute_result"
    }
   ],
   "source": [
    "from transformers import Trainer, TrainingArguments\n",
    "\n",
    "bertweet_two_training_args = TrainingArguments(\n",
    "    output_dir=\"./bertweet_two_out\",\n",
    "    evaluation_strategy = \"epoch\",      \n",
    "    save_strategy = \"epoch\",     \n",
    "    learning_rate = 5e-6,         \n",
    "    per_device_train_batch_size = 32,       \n",
    "    per_device_eval_batch_size  = 64,       \n",
    "    num_train_epochs = 10,          \n",
    "    weight_decay = 0.01,        \n",
    "    warmup_ratio = 0.1,          \n",
    "    lr_scheduler_type = \"cosine\",     \n",
    "    fp16= True,         \n",
    "    logging_strategy= \"steps\",\n",
    "    logging_steps = 100,          \n",
    "    load_best_model_at_end = True,         \n",
    "    metric_for_best_model = \"f1\",\n",
    "    save_total_limit = 3            \n",
    ")\n",
    "\n",
    "bertweet_two_data_collator = DataCollatorWithPadding(tokenizer=bertweet_two_tokenizer)\n",
    "\n",
    "bertweet_two_trainer = Trainer(\n",
    "    model=bertweet_two_model,\n",
    "    args=bertweet_two_training_args,\n",
    "    train_dataset=bertweet_two_encoded_dataset[\"train\"],\n",
    "    eval_dataset=bertweet_two_encoded_dataset[\"validation\"],\n",
    "    tokenizer=bertweet_two_tokenizer,\n",
    "    data_collator=bertweet_two_data_collator,\n",
    "    compute_metrics=bertweet_two_compute_metrics\n",
    ")\n",
    "\n",
    "bertweet_two_trainer.train()\n"
   ]
  },
  {
   "cell_type": "code",
   "execution_count": 299,
   "id": "eb8e8c71",
   "metadata": {},
   "outputs": [
    {
     "data": {
      "text/html": [],
      "text/plain": [
       "<IPython.core.display.HTML object>"
      ]
     },
     "metadata": {},
     "output_type": "display_data"
    },
    {
     "name": "stdout",
     "output_type": "stream",
     "text": [
      "\n",
      " Test Set Evaluation Metrics\n",
      " Accuracy: 0.0525\n",
      " F1-Score (Macro): 0.5422\n"
     ]
    }
   ],
   "source": [
    "bertweet_two_prediction = bertweet_two_trainer.predict(bertweet_two_encoded_dataset[\"test\"])\n",
    "\n",
    "bertweet_two_test_metrics = bertweet_two_compute_metrics(bertweet_two_prediction)\n",
    "\n",
    "print(\"\\n Test Set Evaluation Metrics\")\n",
    "print(f\" Accuracy: {bertweet_two_test_metrics['accuracy']:.4f}\")\n",
    "print(f\" F1-Score (Macro): {bertweet_two_test_metrics['f1']:.4f}\")\n"
   ]
  },
  {
   "cell_type": "markdown",
   "id": "836c91d0",
   "metadata": {},
   "source": [
    "### **Exploratory Data Analysis**\n",
    "\n",
    "After the first training we achieved around ~0.24 (24%) accuracy and ~0.38(38%) macro-F1 in initial fine-tuning, So we decided to take a deeper look into the dataset. These were some the things we found.\n",
    "\n",
    "1. **Class Imbalance**\n",
    "\n",
    "   - **Observation:**\n",
    "    Emotions like **disgust**, **anger**, and **joy** were highly common (≈2,500+ instances each), while **trust**, **surprise**, and **love** are rare (fewer than 400 examples).\n",
    "   - **Evidence:** See **Label Balance** bar chart.\n",
    "\n",
    "2. **Tweet Length Distribution**\n",
    "\n",
    "   - **Observation:**\n",
    "   Tweet lengths vary, but **95%** fall below **39 tokens**. A small number of outliers go above 60–80 tokens.\n",
    "   - **Evidence:** Refer to the **Tweet Length Distribution** histogram (red line marks the 95th percentile).\n",
    "\n",
    "3. **Emotion Co-occurrence**\n",
    "\n",
    "   - **Observation:**\n",
    "   Certain emotions (e.g., **joy** & **optimism**) co-occur frequently, while others show near-zero or negative correlation.\n",
    "   - **Evidence:** Shown in the **Emotion Correlations** heatmap.\n"
   ]
  },
  {
   "cell_type": "markdown",
   "id": "a7501f1e",
   "metadata": {},
   "source": []
  },
  {
   "cell_type": "code",
   "execution_count": null,
   "id": "42207481",
   "metadata": {},
   "outputs": [
    {
     "data": {
      "image/png": "[encoded data removed]",
      "text/plain": [
       "<Figure size 800x400 with 1 Axes>"
      ]
     },
     "metadata": {},
     "output_type": "display_data"
    },
    {
     "data": {
      "image/png": "[encoded data removed]",
      "text/plain": [
       "<Figure size 600x400 with 1 Axes>"
      ]
     },
     "metadata": {},
     "output_type": "display_data"
    },
    {
     "data": {
      "image/png": "[encoded data removed]",
      "text/plain": [
       "<Figure size 500x500 with 2 Axes>"
      ]
     },
     "metadata": {},
     "output_type": "display_data"
    }
   ],
   "source": [
    "import numpy as np\n",
    "import pandas as pd\n",
    "import matplotlib.pyplot as plt\n",
    "from datasets import load_dataset\n",
    "from transformers import AutoTokenizer\n",
    "\n",
    "ds   = load_dataset(\"cardiffnlp/super_tweeteval\", \"tweet_emotion\")[\"train\"]\n",
    "tok  = AutoTokenizer.from_pretrained(\"vinai/bertweet-base\", use_fast=False)\n",
    "labels = ['anger','anticipation','disgust','fear','joy','love','optimism',\n",
    "          'pessimism','sadness','surprise','trust']\n",
    "\n",
    "df = pd.DataFrame({\n",
    "    \"text\": ds[\"text\"],\n",
    "    **{ lbl: np.array(ds[\"gold_label_list\"])[:,i] for i,lbl in enumerate(labels) }\n",
    "})\n",
    "\n",
    "counts = df[labels].sum()\n",
    "counts.plot.bar(figsize=(8,4), rot=45, title=\"Label Balance\")\n",
    "plt.show()\n",
    "\n",
    "lengths = df[\"text\"].map(lambda t: len(tok.encode(t, truncation=False)))\n",
    "p95 = int(lengths.quantile(0.95))\n",
    "lengths.hist(bins=50, figsize=(6,4))\n",
    "plt.axvline(p95, color=\"red\", linestyle=\"--\", label=f\"95th pct: {p95}\")\n",
    "plt.title(\"Tweet Length Distribution\"); plt.legend(); plt.show()\n",
    "\n",
    "corr = df[labels].corr()\n",
    "plt.figure(figsize=(5,5))\n",
    "plt.imshow(corr, vmin=-1, vmax=1, cmap=\"coolwarm\")\n",
    "plt.xticks(range(len(labels)), labels, rotation=90)\n",
    "plt.yticks(range(len(labels)), labels)\n",
    "plt.title(\"Emotion Correlations\"); plt.colorbar(); plt.show()\n"
   ]
  },
  {
   "cell_type": "markdown",
   "id": "b8e04111",
   "metadata": {},
   "source": [
    "### **Next Steps**\n",
    "Based on the findings from the datasets, we proceeded with the following adjustments:\n",
    "\n",
    "1. **Class-Weighted Loss Implementation**\n",
    "   - We computed class_weights based on the inverse frequency of each emotion label from the dataset's label counts. This assigns higher importance to less frequent emotions during training.\n",
    "   - We integrated these class_weights into the BCEWithLogitsLoss function by passing them to the pos_weight parameter. This ensures that the model is penalized more heavily for misclassifying rare emotions.\n",
    "\n",
    "2. **Custom Trainer for Weighted Loss**\n",
    "\n",
    "   - Created a custom MyTrainer class that inherits from the Hugging Face Trainer.\n",
    "   - Overrode the compute_loss method within MyTrainer to utilize the BCEWithLogitsLoss with the calculated class_weights.\n",
    "\n",
    "3. **Re-Training with Weighted Loss**\n",
    "\n",
    "   - Re-initialized the Trainer with the custom MyTrainer class, ensuring that the training process now uses the class-weighted loss.\n",
    "   - Initiated the re-training of the bertweet_two_model using the configured training arguments and datasets."
   ]
  },
  {
   "cell_type": "code",
   "execution_count": null,
   "id": "41a29c2c",
   "metadata": {},
   "outputs": [
    {
     "name": "stderr",
     "output_type": "stream",
     "text": [
      "C:\\Users\\samabdul\\AppData\\Local\\Temp\\ipykernel_16344\\2358883485.py:10: FutureWarning: Series.__getitem__ treating keys as positions is deprecated. In a future version, integer keys will always be treated as labels (consistent with DataFrame behavior). To access a value by position, use `ser.iloc[pos]`\n",
      "  class_weights_tensor = torch.tensor(class_weights, dtype=torch.float)\n",
      "C:\\Users\\samabdul\\AppData\\Local\\Temp\\ipykernel_16344\\2358883485.py:22: FutureWarning: `tokenizer` is deprecated and will be removed in version 5.0.0 for `MyTrainer.__init__`. Use `processing_class` instead.\n",
      "  bertweet_two_trainer = MyTrainer(\n"
     ]
    },
    {
     "data": {
      "text/html": [
       "\n",
       "    <div>\n",
       "      \n",
       "      <progress value='2140' max='2140' style='width:300px; height:20px; vertical-align: middle;'></progress>\n",
       "      [2140/2140 2:08:30, Epoch 10/10]\n",
       "    </div>\n",
       "    <table border=\"1\" class=\"dataframe\">\n",
       "  <thead>\n",
       " <tr style=\"text-align: left;\">\n",
       "      <th>Epoch</th>\n",
       "      <th>Training Loss</th>\n",
       "      <th>Validation Loss</th>\n",
       "      <th>F1</th>\n",
       "      <th>Accuracy</th>\n",
       "    </tr>\n",
       "  </thead>\n",
       "  <tbody>\n",
       "    <tr>\n",
       "      <td>1</td>\n",
       "      <td>0.371500</td>\n",
       "      <td>0.378844</td>\n",
       "      <td>0.451768</td>\n",
       "      <td>0.261851</td>\n",
       "    </tr>\n",
       "    <tr>\n",
       "      <td>2</td>\n",
       "      <td>0.354600</td>\n",
       "      <td>0.373567</td>\n",
       "      <td>0.470967</td>\n",
       "      <td>0.266366</td>\n",
       "    </tr>\n",
       "    <tr>\n",
       "      <td>3</td>\n",
       "      <td>0.339200</td>\n",
       "      <td>0.361414</td>\n",
       "      <td>0.490380</td>\n",
       "      <td>0.252822</td>\n",
       "    </tr>\n",
       "    <tr>\n",
       "      <td>4</td>\n",
       "      <td>0.327600</td>\n",
       "      <td>0.355918</td>\n",
       "      <td>0.556578</td>\n",
       "      <td>0.227991</td>\n",
       "    </tr>\n",
       "    <tr>\n",
       "      <td>5</td>\n",
       "      <td>0.313400</td>\n",
       "      <td>0.352483</td>\n",
       "      <td>0.557642</td>\n",
       "      <td>0.238149</td>\n",
       "    </tr>\n",
       "    <tr>\n",
       "      <td>6</td>\n",
       "      <td>0.311100</td>\n",
       "      <td>0.350083</td>\n",
       "      <td>0.561794</td>\n",
       "      <td>0.256208</td>\n",
       "    </tr>\n",
       "    <tr>\n",
       "      <td>7</td>\n",
       "      <td>0.296000</td>\n",
       "      <td>0.349301</td>\n",
       "      <td>0.571213</td>\n",
       "      <td>0.241535</td>\n",
       "    </tr>\n",
       "    <tr>\n",
       "      <td>8</td>\n",
       "      <td>0.293500</td>\n",
       "      <td>0.349308</td>\n",
       "      <td>0.569108</td>\n",
       "      <td>0.229120</td>\n",
       "    </tr>\n",
       "    <tr>\n",
       "      <td>9</td>\n",
       "      <td>0.293600</td>\n",
       "      <td>0.348954</td>\n",
       "      <td>0.569296</td>\n",
       "      <td>0.229120</td>\n",
       "    </tr>\n",
       "    <tr>\n",
       "      <td>10</td>\n",
       "      <td>0.293300</td>\n",
       "      <td>0.349035</td>\n",
       "      <td>0.568626</td>\n",
       "      <td>0.227991</td>\n",
       "    </tr>\n",
       "  </tbody>\n",
       "</table><p>"
      ],
      "text/plain": [
       "<IPython.core.display.HTML object>"
      ]
     },
     "metadata": {},
     "output_type": "display_data"
    },
    {
     "data": {
      "text/plain": [
       "TrainOutput(global_step=2140, training_loss=0.3185035487201726, metrics={'train_runtime': 7714.4518, 'train_samples_per_second': 8.864, 'train_steps_per_second': 0.277, 'total_flos': 1470149033343600.0, 'train_loss': 0.3185035487201726, 'epoch': 10.0})"
      ]
     },
     "execution_count": 311,
     "metadata": {},
     "output_type": "execute_result"
    }
   ],
   "source": [
    "import torch\n",
    "import numpy as np\n",
    "from sklearn.utils.class_weight import compute_class_weight\n",
    "from torch.nn import BCEWithLogitsLoss\n",
    "from transformers import Trainer, TrainingArguments \n",
    "\n",
    "total_samples = counts.sum()\n",
    "class_weights = total_samples / (len(labels) * counts)\n",
    "class_weights_tensor = torch.tensor(class_weights, dtype=torch.float)\n",
    "\n",
    "class MyTrainer(Trainer):\n",
    "    def compute_loss(self, model, inputs, return_outputs=False, num_items_in_batch=None):\n",
    "        labels = inputs.get(\"labels\")\n",
    "        outputs = model(**inputs)\n",
    "        logits = outputs.get(\"logits\")\n",
    "        loss_fct = BCEWithLogitsLoss(pos_weight=class_weights_tensor.to(logits.device))\n",
    "        loss = loss_fct(logits, labels)\n",
    "        return (loss, outputs) if return_outputs else loss\n",
    "\n",
    "bertweet_two_trainer = MyTrainer(\n",
    "    model=bertweet_two_model,\n",
    "    args=bertweet_two_training_args,\n",
    "    train_dataset=bertweet_two_encoded_dataset[\"train\"],\n",
    "    eval_dataset=bertweet_two_encoded_dataset[\"validation\"],\n",
    "    tokenizer=bertweet_two_tokenizer,\n",
    "    data_collator=bertweet_two_data_collator,\n",
    "    compute_metrics=bertweet_two_compute_metrics\n",
    ")\n",
    "\n",
    "bertweet_two_trainer.train()"
   ]
  },
  {
   "cell_type": "code",
   "execution_count": 312,
   "id": "9a203548",
   "metadata": {},
   "outputs": [
    {
     "data": {
      "text/html": [],
      "text/plain": [
       "<IPython.core.display.HTML object>"
      ]
     },
     "metadata": {},
     "output_type": "display_data"
    },
    {
     "name": "stdout",
     "output_type": "stream",
     "text": [
      "\n",
      " Test Set Evaluation Metrics\n",
      " Accuracy: 0.2492\n",
      " F1-Score (Macro): 0.5574\n"
     ]
    }
   ],
   "source": [
    "bertweet_two_prediction = bertweet_two_trainer.predict(bertweet_two_encoded_dataset[\"test\"])\n",
    "\n",
    "bertweet_two_test_metrics = bertweet_two_compute_metrics(bertweet_two_prediction)\n",
    "\n",
    "print(\"\\n Test Set Evaluation Metrics\")\n",
    "print(f\" Accuracy: {bertweet_two_test_metrics['accuracy']:.4f}\")\n",
    "print(f\" F1-Score (Macro): {bertweet_two_test_metrics['f1']:.4f}\")\n"
   ]
  },
  {
   "cell_type": "markdown",
   "id": "e1de3a3a",
   "metadata": {},
   "source": [
    "###  **Conclusion for BERT & SuperTweetEval**\n",
    "\n",
    "We fine-tuned `vinai/bertweet-base` on the SuperTweetEval emotion dataset. Our initial fine-tuning achieved the following results:\n",
    "\n",
    "* **Test Accuracy:** 0.0525\n",
    "* **F1-Score (Macro):** 0.5422\n",
    "\n",
    "We conducted an exploratory data analysis (EDA) to understand the dataset's characteristics and identify potential challenges. The EDA revealed:\n",
    "\n",
    "1.  **Class Imbalance:** Emotions like 'disgust,' 'anger,' and 'joy' are significantly more frequent than 'trust,' 'surprise,' and 'love.'\n",
    "2.  **Tweet Length Distribution:** The majority (95%) of tweets have lengths below 39 tokens.\n",
    "3.  **Emotion Co-occurrence:** Certain emotions exhibit strong positive correlations (e.g., 'joy' and 'optimism'), while others show weak or negative correlations.\n",
    "\n",
    "Based on the EDA, we addressed the class imbalance by implementing a weighted loss function.\n",
    "\n",
    "1.  **Class-Weighted Loss Implementation:** We computed class weights based on the inverse frequency of each emotion label. We also ntegrated these weights into the `BCEWithLogitsLoss` function via the `pos_weight` parameter, increasing the penalty for misclassifying rare emotions.\n",
    "\n",
    "2.  **Custom Trainer for Weighted Loss:** We created a custom `MyTrainer` class inheriting from the Hugging Face `Trainer` and we overrode the `compute_loss` method to use the weighted `BCEWithLogitsLoss`.\n",
    "\n",
    "3.  **Re-Training with Weighted Loss:** Lastly we re-initialized the `Trainer` with the `MyTrainer` class, then we re-trained the `bertweet_two_model`.\n",
    "\n",
    "Re-training with the class-weighted loss yielded the following improved results:\n",
    "\n",
    "* **Test Accuracy:** 0.2492\n",
    "* **F1-Score (Macro):** 0.5574\n",
    "\n",
    "The application of class-weighted loss led to a significant improvement in test accuracy (from 0.0525 to 0.2492) and a slight improvement in macro-F1 score (from 0.5422 to 0.5574). This demonstrates that addressing the class imbalance in the SuperTweetEval dataset can improve the model's ability to classify emotions, particularly the less frequent ones.\n"
   ]
  },
  {
   "cell_type": "markdown",
   "id": "32701dc1",
   "metadata": {},
   "source": [
    "\n",
    "---\n",
    "\n",
    "## **Overall Conclusion**\n",
    "\n",
    "This study explored the fine-tuning of transformer-based language models for emotion detection on two Twitter-sourced datasets: **TweetEval** and **SuperTweetEval**. Our objective was to evaluate the effectiveness of domain-adapted language models specifically `bert-base-uncased`, `vinai/bertweet-base`, and `XLM-RoBERTa` in capturing emotional signals from short-form, user-generated text, and to assess how training strategies must be tailored to distinct dataset characteristics.\n",
    "\n",
    "On the **TweetEval** dataset, which offers a relatively balanced, single-label classification setup, we demonstrated that switching to a **domain-specific pretrained model** (`vinai/bertweet-base`) significantly improved performance. Combined with refined preprocessing, stronger regularization, and advanced optimization techniques (e.g., ultra-low learning rate, cosine scheduling, gradient accumulation), we achieved a **test accuracy of 82.69%** and a **weighted F1-score of 82.64%**. This represents an improvement of over 3 percentage points in both metrics compared to the baseline `bert-base-uncased`, validating the impact of domain-aware model selection and fine-tuning precision.\n",
    "\n",
    "In contrast, the **SuperTweetEval** dataset introduced more complexity due to its **multi-label classification format**, **high class imbalance**, and **greater label granularity**. Initial fine-tuning results were suboptimal (accuracy: 5.25%, macro-F1: 54.22%), prompting a detailed exploratory data analysis. We found substantial label frequency disparities and co-occurrence patterns that ruined model predictions. To address these challenges, we implemented a **class-weighted loss function** within a custom Hugging Face training loop. This adaptation led to a notable improvement in test accuracy (to 24.92%) and a modest increase in macro-F1 (to 55.74%). These gains indicate that **rebalancing label representation** can substantially enhance model performance, particularly for underrepresented emotional categories.\n",
    "\n",
    "In summary, our findings highlight the critical importance of **dataset-specific adaptation** in emotion classification tasks. Although pretrained transformer models offer a strong baseline, their effectiveness is highly dependent on thoughtful alignment between model architecture and dataset characteristics, as well as careful design of loss functions and fine-tuning strategies.\n",
    "\n",
    "Overall, the **TweetEval** dataset yielded superior performance compared to **SuperTweetEval**, largely due to its **single-label classification format**, which simplifies the learning task for the model. In contrast, the **multi-label nature** and **greater class imbalance** of SuperTweetEval posed additional challenges, requiring more sophisticated handling to achieve meaningful performance gains."
   ]
  },
  {
   "cell_type": "markdown",
   "id": "f08321fc",
   "metadata": {},
   "source": []
  }
 ],
 "metadata": {
  "kernelspec": {
   "display_name": "CS345Project-env",
   "language": "python",
   "name": "python3"
  },
  "language_info": {
   "codemirror_mode": {
    "name": "ipython",
    "version": 3
   },
   "file_extension": ".py",
   "mimetype": "text/x-python",
   "name": "python",
   "nbconvert_exporter": "python",
   "pygments_lexer": "ipython3",
   "version": "3.13.3"
  }
 },
 "nbformat": 4,
 "nbformat_minor": 5
}
